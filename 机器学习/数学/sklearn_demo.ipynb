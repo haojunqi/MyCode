{
 "cells": [
  {
   "cell_type": "code",
   "execution_count": 6,
   "metadata": {
    "collapsed": true
   },
   "outputs": [],
   "source": [
    "import numpy as np\n",
    "import matplotlib.pyplot as plt\n",
    "import pandas as pd"
   ]
  },
  {
   "cell_type": "code",
   "execution_count": 7,
   "metadata": {},
   "outputs": [
    {
     "data": {
      "image/png": "[encoded data removed]",
      "text/plain": [
       "<Figure size 432x288 with 1 Axes>"
      ]
     },
     "metadata": {},
     "output_type": "display_data"
    }
   ],
   "source": [
    "points=np.genfromtxt('E:\\Gitbendi\\机器学习\\数学\\data.csv',delimiter=',')\n",
    "x=points[:,0]\n",
    "y=points[:,1]\n",
    "plt.scatter(x,y)\n",
    "plt.show()"
   ]
  },
  {
   "cell_type": "heading",
   "metadata": {},
   "level": 1,
   "source": [
    "#2、定义损失函数"
   ]
  },
  {
   "cell_type": "code",
   "execution_count": 8,
   "metadata": {},
   "outputs": [],
   "source": [
    "#损失函数是系数的函数,另外还要传入数据x， y\n",
    "def comput_cost(w,b,points):\n",
    "    total_cost=0\n",
    "    m=len(points)\n",
    "    #逐点计算平方损失误差，然后求平均数   ，最小二乘法的均方差\n",
    "    for i in range(m):\n",
    "        x=points[i,0]\n",
    "        y =points[i,1]\n",
    "        total_cost+=( y -w *x -b)**2\n",
    "    return total_cost/m"
   ]
  },
  {
   "cell_type": "code",
   "execution_count": 11,
   "metadata": {},
   "outputs": [
    {
     "data": {
      "text/plain": [
       "LinearRegression(copy_X=True, fit_intercept=True, n_jobs=None, normalize=False)"
      ]
     },
     "execution_count": 11,
     "metadata": {},
     "output_type": "execute_result"
    }
   ],
   "source": [
    "from sklearn.linear_model import LinearRegression\n",
    "lr = LinearRegression()\n",
    "x_new =x.reshape(-1,1)  #改变一下矩阵的形状\n",
    "y_new=y.reshape(-1,1)\n",
    "lr.fit(x_new,y_new)  #直接调用初始化的lr中的fit方法做拟合"
   ]
  },
  {
   "cell_type": "code",
   "execution_count": 10,
   "metadata": {},
   "outputs": [
    {
     "name": "stdout",
     "output_type": "stream",
     "text": [
      "1.3224310227553597\n7.991020982270399\n110.25738346621318\n"
     ]
    }
   ],
   "source": [
    "w = lr.coef_[0][0] #表示系数\n",
    "b = lr.intercept_[0]  #表示截距的意思\n",
    "#从训练好的模型中提取系数和截距\n",
    "print(w)\n",
    "print(b)\n",
    "cost= comput_cost(w,b,points)\n",
    "print(cost)"
   ]
  },
  {
   "cell_type": "code",
   "execution_count": 11,
   "metadata": {},
   "outputs": [],
   "source": []
  },
  {
   "cell_type": "code",
   "execution_count": null,
   "metadata": {},
   "outputs": [],
   "source": []
  }
 ],
 "metadata": {
  "kernelspec": {
   "display_name": "Python 2",
   "language": "python",
   "name": "python2"
  },
  "language_info": {
   "codemirror_mode": {
    "name": "ipython",
    "version": 2
   },
   "file_extension": ".py",
   "mimetype": "text/x-python",
   "name": "python",
   "nbconvert_exporter": "python",
   "pygments_lexer": "ipython2",
   "version": "2.7.6"
  }
 },
 "nbformat": 4,
 "nbformat_minor": 0
}
