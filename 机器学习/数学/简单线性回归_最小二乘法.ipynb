{
 "cells": [
  {
   "cell_type": "markdown",
   "metadata": {
    "collapsed": true
   },
   "source": [
    "#简单的线性回归_最小二乘法"
   ]
  },
  {
   "cell_type": "code",
   "execution_count": 3,
   "metadata": {},
   "outputs": [],
   "source": [
    "import numpy as np\n",
    "import matplotlib.pyplot as plt\n"
   ]
  },
  {
   "cell_type": "code",
   "execution_count": 6,
   "metadata": {
    "collapsed": true
   },
   "outputs": [
    {
     "data": {
      "text/plain": [
       "array([[ 32.50234527,  31.70700585],\n       [ 53.42680403,  68.77759598],\n       [ 61.53035803,  62.5623823 ],\n       [ 47.47563963,  71.54663223],\n       [ 59.81320787,  87.23092513],\n       [ 55.14218841,  78.21151827],\n       [ 52.21179669,  79.64197305],\n       [ 39.29956669,  59.17148932],\n       [ 48.10504169,  75.3312423 ],\n       [ 52.55001444,  71.30087989],\n       [ 45.41973014,  55.16567715],\n       [ 54.35163488,  82.47884676],\n       [ 44.1640495 ,  62.00892325],\n       [ 58.16847072,  75.39287043],\n       [ 56.72720806,  81.43619216],\n       [ 48.95588857,  60.72360244],\n       [ 44.68719623,  82.89250373],\n       [ 60.29732685,  97.37989686],\n       [ 45.61864377,  48.84715332],\n       [ 38.81681754,  56.87721319],\n       [ 66.18981661,  83.87856466],\n       [ 65.41605175, 118.5912173 ],\n       [ 47.48120861,  57.25181946],\n       [ 41.57564262,  51.39174408],\n       [ 51.84518691,  75.38065167],\n       [ 59.37082201,  74.76556403],\n       [ 57.31000344,  95.45505292],\n       [ 63.61556125,  95.22936602],\n       [ 46.73761941,  79.05240617],\n       [ 50.55676015,  83.43207142],\n       [ 52.22399609,  63.35879032],\n       [ 35.56783005,  41.4128853 ],\n       [ 42.43647694,  76.61734128],\n       [ 58.16454011,  96.76956643],\n       [ 57.50444762,  74.08413012],\n       [ 45.44053073,  66.58814441],\n       [ 61.89622268,  77.76848242],\n       [ 33.09383174,  50.71958891],\n       [ 36.43600951,  62.12457082],\n       [ 37.67565486,  60.81024665],\n       [ 44.55560838,  52.68298337],\n       [ 43.31828263,  58.56982472],\n       [ 50.07314563,  82.90598149],\n       [ 43.87061265,  61.4247098 ],\n       [ 62.99748075, 115.2441528 ],\n       [ 32.66904376,  45.57058882],\n       [ 40.16689901,  54.0840548 ],\n       [ 53.57507753,  87.99445276],\n       [ 33.86421497,  52.72549438],\n       [ 64.70713867,  93.57611869],\n       [ 38.11982403,  80.16627545],\n       [ 44.50253806,  65.10171157],\n       [ 40.59953838,  65.56230126],\n       [ 41.72067636,  65.28088692],\n       [ 51.08863468,  73.43464155],\n       [ 55.0780959 ,  71.13972786],\n       [ 41.37772653,  79.10282968],\n       [ 62.49469743,  86.52053844],\n       [ 49.20388754,  84.74269781],\n       [ 41.10268519,  59.35885025],\n       [ 41.18201611,  61.68403752],\n       [ 50.18638949,  69.84760416],\n       [ 52.37844622,  86.09829121],\n       [ 50.13548549,  59.10883927],\n       [ 33.64470601,  69.89968164],\n       [ 39.55790122,  44.86249071],\n       [ 56.13038882,  85.49806778],\n       [ 57.36205213,  95.53668685],\n       [ 60.26921439,  70.25193442],\n       [ 35.67809389,  52.72173496],\n       [ 31.588117  ,  50.39267014],\n       [ 53.66093226,  63.64239878],\n       [ 46.68222865,  72.24725107],\n       [ 43.10782022,  57.81251298],\n       [ 70.34607562, 104.25710159],\n       [ 44.49285588,  86.64202032],\n       [ 57.5045333 ,  91.486778  ],\n       [ 36.93007661,  55.23166089],\n       [ 55.80573336,  79.55043668],\n       [ 38.95476907,  44.84712424],\n       [ 56.9012147 ,  80.20752314],\n       [ 56.86890066,  83.14274979],\n       [ 34.3331247 ,  55.72348926],\n       [ 59.04974121,  77.63418251],\n       [ 57.78822399,  99.05141484],\n       [ 54.28232871,  79.12064627],\n       [ 51.0887199 ,  69.58889785],\n       [ 50.28283635,  69.51050331],\n       [ 44.21174175,  73.68756432],\n       [ 38.00548801,  61.36690454],\n       [ 32.94047994,  67.17065577],\n       [ 53.69163957,  85.66820315],\n       [ 68.76573427, 114.85387123],\n       [ 46.2309665 ,  90.12357207],\n       [ 68.31936082,  97.91982104],\n       [ 50.03017434,  81.53699078],\n       [ 49.23976534,  72.11183247],\n       [ 50.03957594,  85.23200734],\n       [ 48.14985889,  66.22495789],\n       [ 25.12848465,  53.45439421]])"
      ]
     },
     "execution_count": 6,
     "metadata": {},
     "output_type": "execute_result"
    }
   ],
   "source": [
    "points=np.genfromtxt('E:\\Gitbendi\\机器学习\\数学\\data.csv',delimiter=',')\n",
    "points"
   ]
  },
  {
   "cell_type": "code",
   "execution_count": 20,
   "metadata": {
    "collapsed": true
   },
   "outputs": [],
   "source": [
    "#提取points中的数据，分别作为X 和 Y\n",
    "x=points[:,0]\n",
    "y=points[:,1]\n"
   ]
  },
  {
   "cell_type": "code",
   "execution_count": 21,
   "metadata": {
    "collapsed": false
   },
   "outputs": [
    {
     "data": {
      "image/png": "[encoded data removed]",
      "text/plain": [
       "<Figure size 432x288 with 1 Axes>"
      ]
     },
     "metadata": {},
     "output_type": "display_data"
    }
   ],
   "source": [
    "#用plt画出散点图\n",
    "plt.scatter(x,y)\n",
    "plt.show()"
   ]
  },
  {
   "cell_type": "markdown",
   "metadata": {},
   "source": [
    "##2、定义损失函数"
   ]
  },
  {
   "cell_type": "code",
   "execution_count": 31,
   "metadata": {},
   "outputs": [],
   "source": [
    "#损失函数是系数的函数,另外还要传入数据x， y\n",
    "def comput_cost(w,b,points):\n",
    "    total_cost=0\n",
    "    m=len(points)\n",
    "    #逐点计算平方损失误差，然后求平均数   ，最小二乘法的均方差\n",
    "    for i in range(m):\n",
    "        x=points[i,0]\n",
    "        y =points[i,1]\n",
    "        total_cost+=( y -w *x -b)**2\n",
    "    return total_cost/m"
   ]
  },
  {
   "cell_type": "markdown",
   "metadata": {},
   "source": [
    "##3、定义算法拟合函数"
   ]
  },
  {
   "cell_type": "code",
   "execution_count": 32,
   "metadata": {},
   "outputs": [],
   "source": [
    "#先定义一个求均值的函数\n",
    "def average(data):   #传进来的是一组平均数组，data\n",
    "        sum = 0\n",
    "        num = len(data)\n",
    "        for i in range(num):\n",
    "            sum +=data[i]    #遍历出来的data每一个都要加一遍\n",
    "        return sum/num   #返回最后求出遍历出data的和除以data的个数\n",
    "#定义核定你和函数\n",
    "def fit(points):  #传入打开的数据\n",
    "    m=len(points)     #获取传入数据的长度\n",
    "    x_bar=average(points[:,0])   #求 x列的平均值  ，取出数据的所有行的第零列数据\n",
    "    sum_xy=0\n",
    "    sum_x2=0\n",
    "    sum_delat=0\n",
    "    for i in range(m): \n",
    "        x=points[i,0]\n",
    "        y =points[i,1]#获取的数据长度进行遍历，\n",
    "        sum_xy+= y * (x -x_bar)  #根据求 系数w 的公式，求出分子值，对每一个 y* (x-x_bar)求和\n",
    "        sum_x2+=x**2  #求 x 的平方\n",
    "    #根据公式计算w\n",
    "    w =sum_xy / (sum_x2-m*(x_bar**2)) \n",
    "    for i in range(m):\n",
    "        x=points[i,0]\n",
    "        y=points[i,1]\n",
    "        sum_delat+=(y - w * x )  #对所有的(y - w * x ) 进行求和，\n",
    "    b = sum_delat / m  #用(y - w * x ) 求和除以获取的数据长度得出系数b的值\n",
    "    return w, b\n",
    "        "
   ]
  },
  {
   "cell_type": "markdown",
   "metadata": {},
   "source": [
    "###4、测试"
   ]
  },
  {
   "cell_type": "code",
   "execution_count": 34,
   "metadata": {},
   "outputs": [
    {
     "name": "stdout",
     "output_type": "stream",
     "text": [
      "w is  1.3224310227553846\nb is  7.991020982269173\n110.25738346621313\n"
     ]
    }
   ],
   "source": [
    "w,b=fit(points)  #赋值，直接调用定义的fit方法\n",
    "print(\"w is \",w)\n",
    "print(\"b is \",b)\n",
    "cost=comput_cost(w,b,points)\n",
    "print(cost)"
   ]
  },
  {
   "cell_type": "code",
   "execution_count": 37,
   "metadata": {},
   "outputs": [
    {
     "data": {
      "image/png": "[encoded data removed]",
      "text/plain": [
       "<Figure size 432x288 with 1 Axes>"
      ]
     },
     "metadata": {},
     "output_type": "display_data"
    }
   ],
   "source": [
    "#5、画出拟合曲线\n",
    "plt.scatter(x,y)\n",
    "#针对每一个x，计算出预测的y值\n",
    "pred_y=w*x+b\n",
    "plt.plot(x,pred_y,c=\"r\")\n",
    "plt.show()"
   ]
  },
  {
   "cell_type": "code",
   "execution_count": null,
   "metadata": {},
   "outputs": [],
   "source": []
  }
 ],
 "metadata": {
  "kernelspec": {
   "display_name": "Python 2",
   "language": "python",
   "name": "python2"
  },
  "language_info": {
   "codemirror_mode": {
    "name": "ipython",
    "version": 2
   },
   "file_extension": ".py",
   "mimetype": "text/x-python",
   "name": "python",
   "nbconvert_exporter": "python",
   "pygments_lexer": "ipython2",
   "version": "2.7.6"
  }
 },
 "nbformat": 4,
 "nbformat_minor": 0
}
